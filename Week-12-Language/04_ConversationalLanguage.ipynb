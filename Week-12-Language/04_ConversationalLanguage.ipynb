{
 "cells": [
  {
   "cell_type": "markdown",
   "metadata": {},
   "source": [
    "#### Installing .NET Environment (here I've used C# .NET + Python) for better approach"
   ]
  },
  {
   "cell_type": "code",
   "execution_count": 2,
   "metadata": {
    "dotnet_interactive": {
     "language": "csharp"
    },
    "polyglot_notebook": {
     "kernelName": "csharp"
    },
    "vscode": {
     "languageId": "polyglot-notebook"
    }
   },
   "outputs": [
    {
     "ename": "Error",
     "evalue": "(1,9): error CS1002: ; expected\n(1,22): error CS1002: ; expected\n(1,25): error CS1002: ; expected",
     "output_type": "error",
     "traceback": [
      "(1,9): error CS1002: ; expected\n",
      "(1,22): error CS1002: ; expected\n",
      "(1,25): error CS1002: ; expected"
     ]
    }
   ],
   "source": [
    "!dotnet tool install -g Microsoft.dotnet-interactive"
   ]
  },
  {
   "cell_type": "code",
   "execution_count": 2,
   "metadata": {
    "dotnet_interactive": {
     "language": "csharp"
    },
    "polyglot_notebook": {
     "kernelName": "csharp"
    },
    "vscode": {
     "languageId": "polyglot-notebook"
    }
   },
   "outputs": [],
   "source": [
    "!dotnet interactive jupyter install"
   ]
  },
  {
   "cell_type": "code",
   "execution_count": 6,
   "metadata": {
    "dotnet_interactive": {
     "language": "csharp"
    },
    "polyglot_notebook": {
     "kernelName": "csharp"
    },
    "vscode": {
     "languageId": "polyglot-notebook"
    }
   },
   "outputs": [],
   "source": [
    "// example.cs\n",
    "class Example {\n",
    "    public string Greet(string name) {\n",
    "        return $\"Hello, {name}! \\nWelcome to .NET Interactive on ipynb\";\n",
    "    }\n",
    "}\n"
   ]
  },
  {
   "cell_type": "code",
   "execution_count": 7,
   "metadata": {
    "dotnet_interactive": {
     "language": "csharp"
    },
    "polyglot_notebook": {
     "kernelName": "csharp"
    },
    "vscode": {
     "languageId": "polyglot-notebook"
    }
   },
   "outputs": [],
   "source": [
    "\n",
    "\n",
    "// Create an instance of the Example class and call the Greet method\n",
    "var example = new Example();\n",
    "var greeting = example.Greet(\"World\");\n",
    "Console.WriteLine(greeting);\n"
   ]
  },
  {
   "cell_type": "markdown",
   "metadata": {},
   "source": [
    "### Conversational language understanding"
   ]
  },
  {
   "cell_type": "markdown",
   "metadata": {},
   "source": [
    "#### **What is Conversational Language Understanding?**\n",
    "Conversational Language Understanding (CLU) is a feature of AI that enables applications to understand and interpret human language in a conversational context. It involves building custom natural language understanding (NLU) models that can predict the overall intention of an incoming utterance and extract important information from it."
   ]
  },
  {
   "cell_type": "markdown",
   "metadata": {},
   "source": [
    "#### **Why is it used?**\n",
    "CLU is used to enhance the interaction between humans and machines by enabling applications to understand and respond to natural language inputs. This improves user experience by making interactions more intuitive and efficient. It is particularly useful in applications like chatbots, virtual assistants, and customer support systems."
   ]
  },
  {
   "cell_type": "markdown",
   "metadata": {},
   "source": [
    "#### **Where is it Used?**\n",
    "**Customer Support:** Automating responses to common queries and routing complex issues to human agents.\n",
    "\n",
    "**Virtual Assistants:** Enabling devices like smart speakers and smartphones to understand and respond to voice commands.\n",
    "\n",
    "**E-commerce:** Assisting customers with product searches, order tracking, and personalized recommendations.\n",
    "\n",
    "**Healthcare:**  Helping patients schedule appointments, get information about medications, and receive health advice"
   ]
  },
  {
   "cell_type": "markdown",
   "metadata": {},
   "source": [
    "#### **Project Development Life Cycle**\n",
    "1. Data Collection\n",
    "2. Data Labelling\n",
    "3. Model Training\n",
    "4. Evaluation\n",
    "5. Iteration\n",
    "6. Deployment\n",
    "7. Monitoring and Maintenance\n"
   ]
  },
  {
   "cell_type": "markdown",
   "metadata": {},
   "source": []
  },
  {
   "cell_type": "markdown",
   "metadata": {},
   "source": [
    "#### *I have created my own .NET model*\n",
    "\n",
    "*command >>*\n",
    "dotnet new console -n my_ConversationalModel "
   ]
  },
  {
   "cell_type": "code",
   "execution_count": 1,
   "metadata": {
    "dotnet_interactive": {
     "language": "csharp"
    },
    "polyglot_notebook": {
     "kernelName": "csharp"
    },
    "vscode": {
     "languageId": "polyglot-notebook"
    }
   },
   "outputs": [],
   "source": [
    "!pip3 install subprocess.run"
   ]
  },
  {
   "cell_type": "code",
   "execution_count": 16,
   "metadata": {
    "dotnet_interactive": {
     "language": "csharp"
    },
    "polyglot_notebook": {
     "kernelName": "csharp"
    },
    "vscode": {
     "languageId": "polyglot-notebook"
    }
   },
   "outputs": [],
   "source": [
    "import subprocess\n",
    "\n",
    "def get_response_from_csharp(input_text):\n",
    "    result = subprocess.run(['dotnet', 'run', '--project', 'my_ConversationalModel', input_text], capture_output=True, text=True)\n",
    "    return result.stdout.strip()\n",
    "\n",
    "# Example usage\n",
    "context = \"hello\"\n",
    "response = get_response_from_csharp(context)\n",
    "print(f\"Response: {response}\")\n"
   ]
  },
  {
   "cell_type": "code",
   "execution_count": 17,
   "metadata": {
    "dotnet_interactive": {
     "language": "csharp"
    },
    "polyglot_notebook": {
     "kernelName": "csharp"
    },
    "vscode": {
     "languageId": "polyglot-notebook"
    }
   },
   "outputs": [],
   "source": [
    "import ipywidgets as widgets\n",
    "from IPython.display import display\n",
    "\n",
    "question_text = widgets.Text(\n",
    "    placeholder='Enter your question...',\n",
    "    description='Ask:',\n",
    "    layout=widgets.Layout(width='100%')\n",
    ")\n",
    "\n",
    "output = widgets.Output()\n",
    "\n",
    "def on_button_click(b):\n",
    "    with output:\n",
    "        output.clear_output()\n",
    "        question = question_text.value\n",
    "        response = get_response_from_csharp(question)\n",
    "        print(f\"Survi: {response}\")\n",
    "\n",
    "button = widgets.Button(\n",
    "    description='Get Answer',\n",
    "    button_style='info',\n",
    "    layout=widgets.Layout(width='100%')\n",
    ")\n",
    "button.on_click(on_button_click)\n",
    "\n",
    "display(question_text, button, output)"
   ]
  },
  {
   "cell_type": "code",
   "execution_count": null,
   "metadata": {
    "dotnet_interactive": {
     "language": "csharp"
    },
    "polyglot_notebook": {
     "kernelName": "csharp"
    },
    "vscode": {
     "languageId": "polyglot-notebook"
    }
   },
   "outputs": [],
   "source": []
  }
 ],
 "metadata": {
  "kernelspec": {
   "display_name": ".NET (C#)",
   "language": "C#",
   "name": ".net-csharp"
  },
  "language_info": {
   "codemirror_mode": {
    "name": "ipython",
    "version": 3
   },
   "file_extension": ".py",
   "mimetype": "text/x-python",
   "name": "python",
   "nbconvert_exporter": "python",
   "pygments_lexer": "ipython3",
   "version": "3.12.1"
  },
  "polyglot_notebook": {
   "kernelInfo": {
    "defaultKernelName": "csharp",
    "items": [
     {
      "aliases": [],
      "name": "csharp"
     }
    ]
   }
  }
 },
 "nbformat": 4,
 "nbformat_minor": 2
}
