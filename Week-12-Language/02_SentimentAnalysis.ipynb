{
 "cells": [
  {
   "cell_type": "markdown",
   "metadata": {},
   "source": [
    "### <span style=\"color:darkblue\">Sentiment Analysis and Opinion Mining</span>"
   ]
  },
  {
   "cell_type": "markdown",
   "metadata": {},
   "source": [
    "### Sentiment analysis\n",
    "Sentiment analysis is the process of identifying and categorizing opinions expressed in a piece of text, especially to determine whether the writer's attitude towards a prticular topic, product, etc., is positive, negative or neutral. It involves natural language processing (NLP), text analysis, and computational linguistics to extract subjective information from the text."
   ]
  },
  {
   "cell_type": "markdown",
   "metadata": {},
   "source": [
    "### What is Opinion Mining?\n",
    "Opinion Mining, also known as Sentiment Mining, is a broader field that involves extracting and analyzing opinions, sentiments, evaluations, appraisals, attitudes, and emotions from text. It aims to understand the sentiment behind the text and often includes tasks like sentiment classification, aspect-based sentiment analysis, and opinion summarization.\n",
    "\n",
    "! *Important: Opinion Mining is the feature of Sentiment Analysis.*"
   ]
  },
  {
   "cell_type": "markdown",
   "metadata": {},
   "source": [
    "### How are they related?\n",
    "Sentiment Analysis is a subset of Opinion Mining. While Sentiment Analysis focuses specifically on determining the sentiment (positive, negative, neutral) of the text, Opinion Mining encompasses a wider range of tasks, including identifying specific opinions, summarizing opinions, and opinion spam."
   ]
  },
  {
   "cell_type": "markdown",
   "metadata": {},
   "source": [
    "### When is Seniment Analysis required?\n",
    "Sentiment Analysis is required when there is a need to understand the emotional tone behind a body of text. This can be useful in various scenarios, such as:\n",
    "\n",
    "• **Customer Feedback:** Analyzing reviews and feedback to gauge customer satisfaction.\n",
    "\n",
    "• **Social Media Monitoring:** Understanding public sentiment about a brand, product, or event.\n",
    "\n",
    "• **Market Research:** Identifying trends and consumer preferences.\n",
    "\n",
    "• **Political Analysis:** Gauging public opinion on political issues or candidates."
   ]
  },
  {
   "cell_type": "markdown",
   "metadata": {},
   "source": [
    "### Where is Sentiment Analysis used?\n",
    "Sentiment Analysis is used in various fields, including:\n",
    "• **Business:** To analyze customer reviews, feedback, and social media mentions.\n",
    "\n",
    "• **Marketing:** To understand consumer sentiment and tailor marketing strategies.\n",
    "\n",
    "• **Finance:** To predict market trends based on news sentiment.\n",
    "\n",
    "• **Healthcare:** To analyze patient feedback and improve healthcare services.\n",
    "\n",
    "• **Politics:** To gauge public opinion and predict election outcomes."
   ]
  },
  {
   "cell_type": "markdown",
   "metadata": {},
   "source": [
    "### How does Sentiment Analysis solve problems?\n",
    "Sentiment Analysis helps solve problems by providing insights into the emotional tone of the text, which can be used to:\n",
    "\n",
    "• **Improve Customer Service:** By understanding customer sentiment, businesses can address issues more effectively.\n",
    "\n",
    "• **Enhance Product Development:** By analyzing feedback, companies can identify areas for improvement.\n",
    "\n",
    "• **Inform Marketing Strategies:** By understanding consumer sentiment, marketers can create more targeted campaigns.\n",
    "\n",
    "• **Monitor Brand Reputation:** By tracking sentiment over time, companies can manage their brand image."
   ]
  },
  {
   "cell_type": "markdown",
   "metadata": {},
   "source": [
    "### When is Opinion Mining used, and why is it used?\n",
    "Opinion Mining is used when there is a need to extract and analyze opinions from large volumes of text. It is used to:\n",
    "\n",
    "• **Understand Public Opinion:** On various topics, products, or services.\n",
    "\n",
    "• **Summarize Reviews:** To provide an overview of customer opinions.\n",
    "\n",
    "• **Detect Opinion Spam:** To identify fake reviews or biased opinions.\n",
    "\n",
    "• **Improve Decision-Making:** By providing insights into consumer preferences and trends."
   ]
  },
  {
   "cell_type": "code",
   "execution_count": 1,
   "metadata": {},
   "outputs": [
    {
     "name": "stdout",
     "output_type": "stream",
     "text": [
      "Requirement already satisfied: nltk in /usr/local/python/3.12.1/lib/python3.12/site-packages (3.9.1)\n",
      "Requirement already satisfied: click in /usr/local/python/3.12.1/lib/python3.12/site-packages (from nltk) (8.1.7)\n",
      "Requirement already satisfied: joblib in /home/codespace/.local/lib/python3.12/site-packages (from nltk) (1.4.2)\n",
      "Requirement already satisfied: regex>=2021.8.3 in /usr/local/python/3.12.1/lib/python3.12/site-packages (from nltk) (2024.9.11)\n",
      "Requirement already satisfied: tqdm in /usr/local/python/3.12.1/lib/python3.12/site-packages (from nltk) (4.66.5)\n"
     ]
    }
   ],
   "source": [
    "# Import necessary library\n",
    "!pip3 install nltk"
   ]
  },
  {
   "cell_type": "code",
   "execution_count": 2,
   "metadata": {},
   "outputs": [
    {
     "name": "stderr",
     "output_type": "stream",
     "text": [
      "[nltk_data] Downloading package vader_lexicon to\n",
      "[nltk_data]     /home/codespace/nltk_data...\n",
      "[nltk_data]   Package vader_lexicon is already up-to-date!\n"
     ]
    },
    {
     "data": {
      "text/plain": [
       "True"
      ]
     },
     "execution_count": 2,
     "metadata": {},
     "output_type": "execute_result"
    }
   ],
   "source": [
    "# Author: Soumyadip Majumder\n",
    "# Domain: Data Science\n",
    "# Import the required modules and download VADER lexicon:\n",
    "import nltk\n",
    "from nltk.sentiment.vader import SentimentIntensityAnalyzer\n",
    "from IPython.display import display\n",
    "import ipywidgets as widgets\n",
    "\n",
    "nltk.download('vader_lexicon')"
   ]
  },
  {
   "cell_type": "code",
   "execution_count": 3,
   "metadata": {},
   "outputs": [],
   "source": [
    "def Solution():\n",
    "    # Create input box\n",
    "    input_box = widgets.Text(\n",
    "        value='',\n",
    "        placeholder='Type your sentence here',\n",
    "        description='Input:',\n",
    "        disabled=False\n",
    "    )\n",
    "\n",
    "    # Create button\n",
    "    analyze_button = widgets.Button(\n",
    "        description='Analyze Sentiment',\n",
    "        disabled=False,\n",
    "        button_style='',  # 'success', 'info', 'warning', 'danger' or ''\n",
    "        tooltip='Click to analyze sentiment',\n",
    "        icon='check'\n",
    "    )\n",
    "\n",
    "    # Create output area\n",
    "    output = widgets.Output()\n",
    "\n",
    "    display(input_box, analyze_button, output)\n",
    "\n",
    "\n",
    "    def analyze_sentiment(change):\n",
    "        sid = SentimentIntensityAnalyzer()\n",
    "        sentence = input_box.value\n",
    "        sentiment_scores = sid.polarity_scores(sentence)\n",
    "\n",
    "        with output:\n",
    "            output.clear_output()\n",
    "            print(f\"Sentiment Scores: {sentiment_scores}\")\n",
    "            if sentiment_scores['compound'] >= 0.05:\n",
    "                print(\"Overall Sentiment: Positive\")\n",
    "            elif sentiment_scores['compound'] <= -0.05:\n",
    "                print(\"Overall Sentiment: Negative\")\n",
    "            else:\n",
    "                print(\"Overall Sentiment: Neutral\")\n",
    "\n",
    "    analyze_button.on_click(analyze_sentiment)\n",
    "\n"
   ]
  },
  {
   "cell_type": "code",
   "execution_count": 4,
   "metadata": {},
   "outputs": [
    {
     "data": {
      "application/vnd.jupyter.widget-view+json": {
       "model_id": "cd0502fa52334b37a7133f5a8c9b7930",
       "version_major": 2,
       "version_minor": 0
      },
      "text/plain": [
       "Text(value='', description='Input:', placeholder='Type your sentence here')"
      ]
     },
     "metadata": {},
     "output_type": "display_data"
    },
    {
     "data": {
      "application/vnd.jupyter.widget-view+json": {
       "model_id": "a8275c427b244fccaa20c124d762e64e",
       "version_major": 2,
       "version_minor": 0
      },
      "text/plain": [
       "Button(description='Analyze Sentiment', icon='check', style=ButtonStyle(), tooltip='Click to analyze sentiment…"
      ]
     },
     "metadata": {},
     "output_type": "display_data"
    },
    {
     "data": {
      "application/vnd.jupyter.widget-view+json": {
       "model_id": "869e7ff5411d44aa996d2aa1d334f132",
       "version_major": 2,
       "version_minor": 0
      },
      "text/plain": [
       "Output()"
      ]
     },
     "metadata": {},
     "output_type": "display_data"
    }
   ],
   "source": [
    "Solution()"
   ]
  },
  {
   "cell_type": "code",
   "execution_count": 12,
   "metadata": {},
   "outputs": [],
   "source": [
    "# Author: Soumyadip Majumder\n",
    "# Domain: Data Science\n",
    "# BERT model NLP tasks"
   ]
  },
  {
   "cell_type": "code",
   "execution_count": 13,
   "metadata": {},
   "outputs": [
    {
     "name": "stdout",
     "output_type": "stream",
     "text": [
      "Collecting transformers\n",
      "  Downloading transformers-4.44.2-py3-none-any.whl.metadata (43 kB)\n",
      "Requirement already satisfied: filelock in /home/codespace/.local/lib/python3.12/site-packages (from transformers) (3.13.1)\n",
      "Collecting huggingface-hub<1.0,>=0.23.2 (from transformers)\n",
      "  Downloading huggingface_hub-0.25.0-py3-none-any.whl.metadata (13 kB)\n",
      "Requirement already satisfied: numpy>=1.17 in /usr/local/python/3.12.1/lib/python3.12/site-packages (from transformers) (1.26.4)\n",
      "Requirement already satisfied: packaging>=20.0 in /home/codespace/.local/lib/python3.12/site-packages (from transformers) (24.1)\n",
      "Requirement already satisfied: pyyaml>=5.1 in /home/codespace/.local/lib/python3.12/site-packages (from transformers) (6.0.2)\n",
      "Requirement already satisfied: regex!=2019.12.17 in /usr/local/python/3.12.1/lib/python3.12/site-packages (from transformers) (2024.9.11)\n",
      "Requirement already satisfied: requests in /home/codespace/.local/lib/python3.12/site-packages (from transformers) (2.32.3)\n",
      "Collecting safetensors>=0.4.1 (from transformers)\n",
      "  Downloading safetensors-0.4.5-cp312-cp312-manylinux_2_17_x86_64.manylinux2014_x86_64.whl.metadata (3.8 kB)\n",
      "Collecting tokenizers<0.20,>=0.19 (from transformers)\n",
      "  Downloading tokenizers-0.19.1-cp312-cp312-manylinux_2_17_x86_64.manylinux2014_x86_64.whl.metadata (6.7 kB)\n",
      "Requirement already satisfied: tqdm>=4.27 in /usr/local/python/3.12.1/lib/python3.12/site-packages (from transformers) (4.66.5)\n",
      "Requirement already satisfied: fsspec>=2023.5.0 in /home/codespace/.local/lib/python3.12/site-packages (from huggingface-hub<1.0,>=0.23.2->transformers) (2024.2.0)\n",
      "Requirement already satisfied: typing-extensions>=3.7.4.3 in /home/codespace/.local/lib/python3.12/site-packages (from huggingface-hub<1.0,>=0.23.2->transformers) (4.9.0)\n",
      "Requirement already satisfied: charset-normalizer<4,>=2 in /home/codespace/.local/lib/python3.12/site-packages (from requests->transformers) (3.3.2)\n",
      "Requirement already satisfied: idna<4,>=2.5 in /home/codespace/.local/lib/python3.12/site-packages (from requests->transformers) (3.7)\n",
      "Requirement already satisfied: urllib3<3,>=1.21.1 in /home/codespace/.local/lib/python3.12/site-packages (from requests->transformers) (2.2.2)\n",
      "Requirement already satisfied: certifi>=2017.4.17 in /home/codespace/.local/lib/python3.12/site-packages (from requests->transformers) (2024.7.4)\n",
      "Downloading transformers-4.44.2-py3-none-any.whl (9.5 MB)\n",
      "\u001b[2K   \u001b[90m━━━━━━━━━━━━━━━━━━━━━━━━━━━━━━━━━━━━━━━━\u001b[0m \u001b[32m9.5/9.5 MB\u001b[0m \u001b[31m24.7 MB/s\u001b[0m eta \u001b[36m0:00:00\u001b[0m00:01\u001b[0m00:01\u001b[0m\n",
      "\u001b[?25hDownloading huggingface_hub-0.25.0-py3-none-any.whl (436 kB)\n",
      "Downloading safetensors-0.4.5-cp312-cp312-manylinux_2_17_x86_64.manylinux2014_x86_64.whl (434 kB)\n",
      "Downloading tokenizers-0.19.1-cp312-cp312-manylinux_2_17_x86_64.manylinux2014_x86_64.whl (3.6 MB)\n",
      "\u001b[2K   \u001b[90m━━━━━━━━━━━━━━━━━━━━━━━━━━━━━━━━━━━━━━━━\u001b[0m \u001b[32m3.6/3.6 MB\u001b[0m \u001b[31m31.9 MB/s\u001b[0m eta \u001b[36m0:00:00\u001b[0m\n",
      "\u001b[?25hInstalling collected packages: safetensors, huggingface-hub, tokenizers, transformers\n",
      "Successfully installed huggingface-hub-0.25.0 safetensors-0.4.5 tokenizers-0.19.1 transformers-4.44.2\n"
     ]
    }
   ],
   "source": [
    "!pip3 install transformers"
   ]
  },
  {
   "cell_type": "code",
   "execution_count": 14,
   "metadata": {},
   "outputs": [
    {
     "name": "stdout",
     "output_type": "stream",
     "text": [
      "Requirement already satisfied: torch in /home/codespace/.local/lib/python3.12/site-packages (2.4.0+cpu)\n",
      "Requirement already satisfied: filelock in /home/codespace/.local/lib/python3.12/site-packages (from torch) (3.13.1)\n",
      "Requirement already satisfied: typing-extensions>=4.8.0 in /home/codespace/.local/lib/python3.12/site-packages (from torch) (4.9.0)\n",
      "Requirement already satisfied: sympy in /home/codespace/.local/lib/python3.12/site-packages (from torch) (1.12)\n",
      "Requirement already satisfied: networkx in /home/codespace/.local/lib/python3.12/site-packages (from torch) (3.2.1)\n",
      "Requirement already satisfied: jinja2 in /home/codespace/.local/lib/python3.12/site-packages (from torch) (3.1.4)\n",
      "Requirement already satisfied: fsspec in /home/codespace/.local/lib/python3.12/site-packages (from torch) (2024.2.0)\n",
      "Requirement already satisfied: setuptools in /home/codespace/.local/lib/python3.12/site-packages (from torch) (73.0.1)\n",
      "Requirement already satisfied: MarkupSafe>=2.0 in /home/codespace/.local/lib/python3.12/site-packages (from jinja2->torch) (2.1.5)\n",
      "Requirement already satisfied: mpmath>=0.19 in /home/codespace/.local/lib/python3.12/site-packages (from sympy->torch) (1.3.0)\n"
     ]
    }
   ],
   "source": [
    "!pip3 install torch"
   ]
  },
  {
   "cell_type": "code",
   "execution_count": 15,
   "metadata": {},
   "outputs": [
    {
     "name": "stdout",
     "output_type": "stream",
     "text": [
      "Requirement already satisfied: ipywidgets in /usr/local/python/3.12.1/lib/python3.12/site-packages (8.1.5)\n",
      "Requirement already satisfied: comm>=0.1.3 in /home/codespace/.local/lib/python3.12/site-packages (from ipywidgets) (0.2.2)\n",
      "Requirement already satisfied: ipython>=6.1.0 in /home/codespace/.local/lib/python3.12/site-packages (from ipywidgets) (8.26.0)\n",
      "Requirement already satisfied: traitlets>=4.3.1 in /home/codespace/.local/lib/python3.12/site-packages (from ipywidgets) (5.14.3)\n",
      "Requirement already satisfied: widgetsnbextension~=4.0.12 in /usr/local/python/3.12.1/lib/python3.12/site-packages (from ipywidgets) (4.0.13)\n",
      "Requirement already satisfied: jupyterlab-widgets~=3.0.12 in /usr/local/python/3.12.1/lib/python3.12/site-packages (from ipywidgets) (3.0.13)\n",
      "Requirement already satisfied: decorator in /home/codespace/.local/lib/python3.12/site-packages (from ipython>=6.1.0->ipywidgets) (5.1.1)\n",
      "Requirement already satisfied: jedi>=0.16 in /home/codespace/.local/lib/python3.12/site-packages (from ipython>=6.1.0->ipywidgets) (0.19.1)\n",
      "Requirement already satisfied: matplotlib-inline in /home/codespace/.local/lib/python3.12/site-packages (from ipython>=6.1.0->ipywidgets) (0.1.7)\n",
      "Requirement already satisfied: prompt-toolkit<3.1.0,>=3.0.41 in /home/codespace/.local/lib/python3.12/site-packages (from ipython>=6.1.0->ipywidgets) (3.0.47)\n",
      "Requirement already satisfied: pygments>=2.4.0 in /home/codespace/.local/lib/python3.12/site-packages (from ipython>=6.1.0->ipywidgets) (2.18.0)\n",
      "Requirement already satisfied: stack-data in /home/codespace/.local/lib/python3.12/site-packages (from ipython>=6.1.0->ipywidgets) (0.6.3)\n",
      "Requirement already satisfied: pexpect>4.3 in /home/codespace/.local/lib/python3.12/site-packages (from ipython>=6.1.0->ipywidgets) (4.9.0)\n",
      "Requirement already satisfied: parso<0.9.0,>=0.8.3 in /home/codespace/.local/lib/python3.12/site-packages (from jedi>=0.16->ipython>=6.1.0->ipywidgets) (0.8.4)\n",
      "Requirement already satisfied: ptyprocess>=0.5 in /home/codespace/.local/lib/python3.12/site-packages (from pexpect>4.3->ipython>=6.1.0->ipywidgets) (0.7.0)\n",
      "Requirement already satisfied: wcwidth in /home/codespace/.local/lib/python3.12/site-packages (from prompt-toolkit<3.1.0,>=3.0.41->ipython>=6.1.0->ipywidgets) (0.2.13)\n",
      "Requirement already satisfied: executing>=1.2.0 in /home/codespace/.local/lib/python3.12/site-packages (from stack-data->ipython>=6.1.0->ipywidgets) (2.0.1)\n",
      "Requirement already satisfied: asttokens>=2.1.0 in /home/codespace/.local/lib/python3.12/site-packages (from stack-data->ipython>=6.1.0->ipywidgets) (2.4.1)\n",
      "Requirement already satisfied: pure-eval in /home/codespace/.local/lib/python3.12/site-packages (from stack-data->ipython>=6.1.0->ipywidgets) (0.2.3)\n",
      "Requirement already satisfied: six>=1.12.0 in /home/codespace/.local/lib/python3.12/site-packages (from asttokens>=2.1.0->stack-data->ipython>=6.1.0->ipywidgets) (1.16.0)\n"
     ]
    }
   ],
   "source": [
    "!pip3 install ipywidgets"
   ]
  },
  {
   "cell_type": "code",
   "execution_count": 5,
   "metadata": {},
   "outputs": [],
   "source": [
    "from transformers import pipeline\n",
    "from IPython.display import display\n",
    "import ipywidgets as widgets"
   ]
  },
  {
   "cell_type": "code",
   "execution_count": 9,
   "metadata": {},
   "outputs": [
    {
     "data": {
      "application/vnd.jupyter.widget-view+json": {
       "model_id": "de57a1466d714abea8c8ee16a81f5f0f",
       "version_major": 2,
       "version_minor": 0
      },
      "text/plain": [
       "Text(value='', description='Input:', placeholder='Type your sentence here')"
      ]
     },
     "metadata": {},
     "output_type": "display_data"
    },
    {
     "data": {
      "application/vnd.jupyter.widget-view+json": {
       "model_id": "2c6ffca34d004d60bf77902a6166dffd",
       "version_major": 2,
       "version_minor": 0
      },
      "text/plain": [
       "Button(description='Analyze Sentiment', icon='check', style=ButtonStyle(), tooltip='Click to analyze sentiment…"
      ]
     },
     "metadata": {},
     "output_type": "display_data"
    },
    {
     "data": {
      "application/vnd.jupyter.widget-view+json": {
       "model_id": "23f4cddd8a5744d0b677bb6b54f110e4",
       "version_major": 2,
       "version_minor": 0
      },
      "text/plain": [
       "Output()"
      ]
     },
     "metadata": {},
     "output_type": "display_data"
    },
    {
     "name": "stderr",
     "output_type": "stream",
     "text": [
      "No model was supplied, defaulted to distilbert/distilbert-base-uncased-finetuned-sst-2-english and revision af0f99b (https://huggingface.co/distilbert/distilbert-base-uncased-finetuned-sst-2-english).\n",
      "Using a pipeline without specifying a model name and revision in production is not recommended.\n"
     ]
    },
    {
     "name": "stderr",
     "output_type": "stream",
     "text": [
      "No model was supplied, defaulted to distilbert/distilbert-base-uncased-finetuned-sst-2-english and revision af0f99b (https://huggingface.co/distilbert/distilbert-base-uncased-finetuned-sst-2-english).\n",
      "Using a pipeline without specifying a model name and revision in production is not recommended.\n"
     ]
    },
    {
     "name": "stderr",
     "output_type": "stream",
     "text": [
      "No model was supplied, defaulted to distilbert/distilbert-base-uncased-finetuned-sst-2-english and revision af0f99b (https://huggingface.co/distilbert/distilbert-base-uncased-finetuned-sst-2-english).\n",
      "Using a pipeline without specifying a model name and revision in production is not recommended.\n"
     ]
    },
    {
     "name": "stderr",
     "output_type": "stream",
     "text": [
      "No model was supplied, defaulted to distilbert/distilbert-base-uncased-finetuned-sst-2-english and revision af0f99b (https://huggingface.co/distilbert/distilbert-base-uncased-finetuned-sst-2-english).\n",
      "Using a pipeline without specifying a model name and revision in production is not recommended.\n"
     ]
    },
    {
     "name": "stderr",
     "output_type": "stream",
     "text": [
      "No model was supplied, defaulted to distilbert/distilbert-base-uncased-finetuned-sst-2-english and revision af0f99b (https://huggingface.co/distilbert/distilbert-base-uncased-finetuned-sst-2-english).\n",
      "Using a pipeline without specifying a model name and revision in production is not recommended.\n",
      "/usr/local/python/3.12.1/lib/python3.12/site-packages/transformers/tokenization_utils_base.py:1601: FutureWarning: `clean_up_tokenization_spaces` was not set. It will be set to `True` by default. This behavior will be depracted in transformers v4.45, and will be then set to `False` by default. For more details check this issue: https://github.com/huggingface/transformers/issues/31884\n",
      "  warnings.warn(\n"
     ]
    }
   ],
   "source": [
    "from transformers import pipeline\n",
    "from IPython.display import display, HTML\n",
    "import ipywidgets as widgets\n",
    "\n",
    "def Solution_advanced():\n",
    "    # Create input box\n",
    "    input_box = widgets.Text(\n",
    "        value='',\n",
    "        placeholder='Type your sentence here',\n",
    "        description='Input:',\n",
    "        disabled=False\n",
    "    )\n",
    "\n",
    "    # Create button\n",
    "    analyze_button = widgets.Button(\n",
    "        description='Analyze Sentiment',\n",
    "        disabled=False,\n",
    "        button_style='',  # 'success', 'info', 'warning', 'danger' or ''\n",
    "        tooltip='Click to analyze sentiment',\n",
    "        icon='check'\n",
    "    )\n",
    "\n",
    "    # Create output area\n",
    "    output = widgets.Output()\n",
    "\n",
    "    display(input_box, analyze_button, output)\n",
    "\n",
    "    def analyze_sentiment(change):\n",
    "        # Load pre-trained sentiment analysis pipeline\n",
    "        sentiment_pipeline = pipeline('sentiment-analysis')\n",
    "        sentence = input_box.value\n",
    "        sentiment = sentiment_pipeline(sentence)\n",
    "\n",
    "        with output:\n",
    "            output.clear_output()\n",
    "            label = sentiment[0]['label']\n",
    "            score = sentiment[0]['score']\n",
    "            \n",
    "            if label == 'NEGATIVE':\n",
    "                color = 'red'\n",
    "            elif label == 'NEUTRAL':\n",
    "                color = 'blue'\n",
    "            else:\n",
    "                color = 'green'\n",
    "            \n",
    "            html_content = f\"\"\"\n",
    "            <div style='border: 2px solid {color}; padding: 10px; margin: 10px; border-radius: 10px; animation: pulse 2s infinite;'>\n",
    "                <h3 style='color: {color};'>Sentiment: {label}</h3>\n",
    "                <p>Confidence Score: {score:.2f}</p>\n",
    "            </div>\n",
    "            <style>\n",
    "            @keyframes pulse {{\n",
    "                0% {{ box-shadow: 0 0 5px {color}; }}\n",
    "                50% {{ box-shadow: 0 0 20px {color}; }}\n",
    "                100% {{ box-shadow: 0 0 5px {color}; }}\n",
    "            }}\n",
    "            </style>\n",
    "            \"\"\"\n",
    "            display(HTML(html_content))\n",
    "\n",
    "    analyze_button.on_click(analyze_sentiment)\n",
    "\n",
    "Solution_advanced()"
   ]
  },
  {
   "cell_type": "code",
   "execution_count": 40,
   "metadata": {},
   "outputs": [],
   "source": [
    "from transformers import pipeline\n",
    "from IPython.display import display, HTML\n",
    "import ipywidgets as widgets\n",
    "\n",
    "def my_Most_advancedSolution():\n",
    "    # Create input box\n",
    "    input_box = widgets.Text(\n",
    "        value='',\n",
    "        placeholder='Type your sentence here',\n",
    "        description='Input:',\n",
    "        disabled=False\n",
    "    )\n",
    "\n",
    "    # Create button\n",
    "    analyze_button = widgets.Button(\n",
    "        description='Analyze Sentiment',\n",
    "        disabled=False,\n",
    "        button_style='',  # 'success', 'info', 'warning', 'danger' or ''\n",
    "        tooltip='Click to analyze sentiment',\n",
    "        icon='check'\n",
    "    )\n",
    "\n",
    "    # Create output area\n",
    "    output = widgets.Output()\n",
    "\n",
    "    display(input_box, analyze_button, output)\n",
    "\n",
    "    def analyze_sentiment(change):\n",
    "        # Load pre-trained sentiment analysis pipeline\n",
    "        sentiment_pipeline = pipeline('sentiment-analysis')\n",
    "        sentence = input_box.value\n",
    "        sentiment = sentiment_pipeline(sentence)\n",
    "\n",
    "        with output:\n",
    "            output.clear_output()\n",
    "            label = sentiment[0]['label']\n",
    "            score = sentiment[0]['score']\n",
    "            \n",
    "            negative_box = f\"\"\"\n",
    "            <div style='border: 2px solid red; padding: 10px; margin: 10px; border-radius: 10px; animation: pulse-red 2s infinite;'>\n",
    "                <h3 style='color: red;'>Negative Sentiment</h3>\n",
    "                <p>Confidence Score: {score:.2f}</p>\n",
    "            </div>\n",
    "            <style>\n",
    "            @keyframes pulse-red {{\n",
    "                0% {{ box-shadow: 0 0 5px red; }}\n",
    "                50% {{ box-shadow: 0 0 20px red; }}\n",
    "                100% {{ box-shadow: 0 0 5px red; }}\n",
    "            }}\n",
    "            </style>\n",
    "            \"\"\"\n",
    "\n",
    "            neutral_box = f\"\"\"\n",
    "            <div style='border: 2px solid blue; padding: 10px; margin: 10px; border-radius: 10px; animation: pulse-blue 2s infinite;'>\n",
    "                <h3 style='color: blue;'>Neutral Sentiment</h3>\n",
    "                <p>Confidence Score: {score:.2f}</p>\n",
    "            </div>\n",
    "            <style>\n",
    "            @keyframes pulse-blue {{\n",
    "                0% {{ box-shadow: 0 0 5px blue; }}\n",
    "                50% {{ box-shadow: 0 0 20px blue; }}\n",
    "                100% {{ box-shadow: 0 0 5px blue; }}\n",
    "            }}\n",
    "            </style>\n",
    "            \"\"\"\n",
    "\n",
    "            positive_box = f\"\"\"\n",
    "            <div style='border: 2px solid green; padding: 10px; margin: 10px; border-radius: 10px; animation: pulse-green 2s infinite;'>\n",
    "                <h3 style='color: green;'>Positive Sentiment</h3>\n",
    "                <p>Confidence Score: {score:.2f}</p>\n",
    "            </div>\n",
    "            <style>\n",
    "            @keyframes pulse-green {{\n",
    "                0% {{ box-shadow: 0 0 5px green; }}\n",
    "                50% {{ box-shadow: 0 0 20px green; }}\n",
    "                100% {{ box-shadow: 0 0 5px green; }}\n",
    "            }}\n",
    "            </style>\n",
    "            \"\"\"\n",
    "\n",
    "            if label == 'NEGATIVE':\n",
    "                display(HTML(negative_box))\n",
    "            elif label == 'NEUTRAL':\n",
    "                display(HTML(neutral_box))\n",
    "            else:\n",
    "                display(HTML(positive_box))\n",
    "\n",
    "            # Display all sentiment scores\n",
    "            all_scores = sentiment_pipeline(sentence, return_all_scores=True)[0]\n",
    "            scores_dict = {score['label']: score['score'] for score in all_scores}\n",
    "            negative_score = scores_dict.get('NEGATIVE', 0)\n",
    "            neutral_score = scores_dict.get('NEUTRAL', 0)\n",
    "            positive_score = scores_dict.get('POSITIVE', 0)\n",
    "\n",
    "            all_scores_box = f\"\"\"\n",
    "            <div style='border: 5px solid; padding: 10px; margin: 10px; border-radius: 10px; animation: rotate-colors 5s infinite linear;'>\n",
    "                <h3>Sentiment Analysis Scores</h3>\n",
    "                <p>Negative: {negative_score:.2f}</p>\n",
    "                <p>Neutral: {neutral_score:.2f}</p>\n",
    "                <p>Positive: {positive_score:.2f}</p>\n",
    "            </div>\n",
    "            <style>\n",
    "            @keyframes rotate-colors {{\n",
    "                0% {{ border-color: orange; }}\n",
    "                12% {{ border-color: darkblue; }}\n",
    "                33% {{ border-color: purple; }}\n",
    "                50% {{ border-color: silver; }}\n",
    "                66% {{ border-color: purple; }}\n",
    "                80% {{ border-color: darkblue; }}\n",
    "                100% {{ border-color: orange; }}\n",
    "            }}\n",
    "            </style>\n",
    "            \"\"\"\n",
    "            display(HTML(all_scores_box))\n",
    "\n",
    "    analyze_button.on_click(analyze_sentiment)"
   ]
  },
  {
   "cell_type": "code",
   "execution_count": 41,
   "metadata": {},
   "outputs": [
    {
     "data": {
      "application/vnd.jupyter.widget-view+json": {
       "model_id": "295d7e9ec40b485abba9edfd1afda0fc",
       "version_major": 2,
       "version_minor": 0
      },
      "text/plain": [
       "Text(value='', description='Input:', placeholder='Type your sentence here')"
      ]
     },
     "metadata": {},
     "output_type": "display_data"
    },
    {
     "data": {
      "application/vnd.jupyter.widget-view+json": {
       "model_id": "d863c4dbb3ab4949b4671ede57446998",
       "version_major": 2,
       "version_minor": 0
      },
      "text/plain": [
       "Button(description='Analyze Sentiment', icon='check', style=ButtonStyle(), tooltip='Click to analyze sentiment…"
      ]
     },
     "metadata": {},
     "output_type": "display_data"
    },
    {
     "data": {
      "application/vnd.jupyter.widget-view+json": {
       "model_id": "3c50aa5c01794906ad264bc5bf112257",
       "version_major": 2,
       "version_minor": 0
      },
      "text/plain": [
       "Output()"
      ]
     },
     "metadata": {},
     "output_type": "display_data"
    },
    {
     "name": "stderr",
     "output_type": "stream",
     "text": [
      "No model was supplied, defaulted to distilbert/distilbert-base-uncased-finetuned-sst-2-english and revision af0f99b (https://huggingface.co/distilbert/distilbert-base-uncased-finetuned-sst-2-english).\n",
      "Using a pipeline without specifying a model name and revision in production is not recommended.\n",
      "/usr/local/python/3.12.1/lib/python3.12/site-packages/transformers/tokenization_utils_base.py:1601: FutureWarning: `clean_up_tokenization_spaces` was not set. It will be set to `True` by default. This behavior will be depracted in transformers v4.45, and will be then set to `False` by default. For more details check this issue: https://github.com/huggingface/transformers/issues/31884\n",
      "  warnings.warn(\n"
     ]
    }
   ],
   "source": [
    "my_Most_advancedSolution()"
   ]
  },
  {
   "cell_type": "code",
   "execution_count": 42,
   "metadata": {},
   "outputs": [
    {
     "data": {
      "application/vnd.jupyter.widget-view+json": {
       "model_id": "5c6885bc95be49ae8245619c9304eccb",
       "version_major": 2,
       "version_minor": 0
      },
      "text/plain": [
       "Text(value='', description='Input:', placeholder='Type your sentence here')"
      ]
     },
     "metadata": {},
     "output_type": "display_data"
    },
    {
     "data": {
      "application/vnd.jupyter.widget-view+json": {
       "model_id": "39053d87ae904a8cb44042df95551184",
       "version_major": 2,
       "version_minor": 0
      },
      "text/plain": [
       "Button(description='Analyze Sentiment', icon='check', style=ButtonStyle(), tooltip='Click to analyze sentiment…"
      ]
     },
     "metadata": {},
     "output_type": "display_data"
    },
    {
     "data": {
      "application/vnd.jupyter.widget-view+json": {
       "model_id": "717350ad66864967a03049f44a41ebff",
       "version_major": 2,
       "version_minor": 0
      },
      "text/plain": [
       "Output()"
      ]
     },
     "metadata": {},
     "output_type": "display_data"
    },
    {
     "name": "stderr",
     "output_type": "stream",
     "text": [
      "No model was supplied, defaulted to distilbert/distilbert-base-uncased-finetuned-sst-2-english and revision af0f99b (https://huggingface.co/distilbert/distilbert-base-uncased-finetuned-sst-2-english).\n",
      "Using a pipeline without specifying a model name and revision in production is not recommended.\n",
      "/usr/local/python/3.12.1/lib/python3.12/site-packages/transformers/tokenization_utils_base.py:1601: FutureWarning: `clean_up_tokenization_spaces` was not set. It will be set to `True` by default. This behavior will be depracted in transformers v4.45, and will be then set to `False` by default. For more details check this issue: https://github.com/huggingface/transformers/issues/31884\n",
      "  warnings.warn(\n"
     ]
    },
    {
     "name": "stderr",
     "output_type": "stream",
     "text": [
      "No model was supplied, defaulted to distilbert/distilbert-base-uncased-finetuned-sst-2-english and revision af0f99b (https://huggingface.co/distilbert/distilbert-base-uncased-finetuned-sst-2-english).\n",
      "Using a pipeline without specifying a model name and revision in production is not recommended.\n"
     ]
    },
    {
     "name": "stderr",
     "output_type": "stream",
     "text": [
      "No model was supplied, defaulted to distilbert/distilbert-base-uncased-finetuned-sst-2-english and revision af0f99b (https://huggingface.co/distilbert/distilbert-base-uncased-finetuned-sst-2-english).\n",
      "Using a pipeline without specifying a model name and revision in production is not recommended.\n"
     ]
    }
   ],
   "source": [
    "my_Most_advancedSolution()"
   ]
  },
  {
   "cell_type": "code",
   "execution_count": 43,
   "metadata": {},
   "outputs": [
    {
     "data": {
      "application/vnd.jupyter.widget-view+json": {
       "model_id": "b3063e7e9d854356b20b40c4b07b6dfd",
       "version_major": 2,
       "version_minor": 0
      },
      "text/plain": [
       "Text(value='', description='Input:', placeholder='Type your sentence here')"
      ]
     },
     "metadata": {},
     "output_type": "display_data"
    },
    {
     "data": {
      "application/vnd.jupyter.widget-view+json": {
       "model_id": "2f459ef95cd34a0a946bc57b00684a34",
       "version_major": 2,
       "version_minor": 0
      },
      "text/plain": [
       "Button(description='Analyze Sentiment', icon='check', style=ButtonStyle(), tooltip='Click to analyze sentiment…"
      ]
     },
     "metadata": {},
     "output_type": "display_data"
    },
    {
     "data": {
      "application/vnd.jupyter.widget-view+json": {
       "model_id": "afea226c5a8a4629997b7545cbe3fcb1",
       "version_major": 2,
       "version_minor": 0
      },
      "text/plain": [
       "Output()"
      ]
     },
     "metadata": {},
     "output_type": "display_data"
    },
    {
     "name": "stderr",
     "output_type": "stream",
     "text": [
      "No model was supplied, defaulted to distilbert/distilbert-base-uncased-finetuned-sst-2-english and revision af0f99b (https://huggingface.co/distilbert/distilbert-base-uncased-finetuned-sst-2-english).\n",
      "Using a pipeline without specifying a model name and revision in production is not recommended.\n",
      "/usr/local/python/3.12.1/lib/python3.12/site-packages/transformers/tokenization_utils_base.py:1601: FutureWarning: `clean_up_tokenization_spaces` was not set. It will be set to `True` by default. This behavior will be depracted in transformers v4.45, and will be then set to `False` by default. For more details check this issue: https://github.com/huggingface/transformers/issues/31884\n",
      "  warnings.warn(\n"
     ]
    },
    {
     "name": "stderr",
     "output_type": "stream",
     "text": [
      "No model was supplied, defaulted to distilbert/distilbert-base-uncased-finetuned-sst-2-english and revision af0f99b (https://huggingface.co/distilbert/distilbert-base-uncased-finetuned-sst-2-english).\n",
      "Using a pipeline without specifying a model name and revision in production is not recommended.\n"
     ]
    }
   ],
   "source": [
    "my_Most_advancedSolution()"
   ]
  },
  {
   "cell_type": "code",
   "execution_count": 47,
   "metadata": {},
   "outputs": [],
   "source": [
    "from transformers import pipeline\n",
    "from IPython.display import display, HTML\n",
    "import ipywidgets as widgets\n",
    "\n",
    "def my_SST2_advancedSolution():\n",
    "    # Create input box\n",
    "    input_box = widgets.Text(\n",
    "        value='',\n",
    "        placeholder='Type your sentence here',\n",
    "        description='Input:',\n",
    "        disabled=False\n",
    "    )\n",
    "\n",
    "    # Create button\n",
    "    analyze_button = widgets.Button(\n",
    "        description='Analyze Sentiment',\n",
    "        disabled=False,\n",
    "        button_style='',  # 'success', 'info', 'warning', 'danger' or ''\n",
    "        tooltip='Click to analyze sentiment',\n",
    "        icon='check'\n",
    "    )\n",
    "\n",
    "    # Create output area\n",
    "    output = widgets.Output()\n",
    "\n",
    "    display(input_box, analyze_button, output)\n",
    "\n",
    "    def analyze_sentiment(change):\n",
    "        # Load pre-trained sentiment analysis pipeline\n",
    "        sentiment_pipeline = pipeline('sentiment-analysis', model='distilbert-base-uncased-finetuned-sst-2-english')\n",
    "        sentence = input_box.value\n",
    "        sentiment = sentiment_pipeline(sentence, return_all_scores=True)[0]\n",
    "\n",
    "        with output:\n",
    "            output.clear_output()\n",
    "            scores_dict = {score['label']: score['score'] for score in sentiment}\n",
    "            negative_score = scores_dict.get('NEGATIVE', 0)\n",
    "            neutral_score = scores_dict.get('NEUTRAL', 0)\n",
    "            positive_score = scores_dict.get('POSITIVE', 0)\n",
    "\n",
    "            # Determine the sentiment label based on custom thresholds\n",
    "            if positive_score > 0.6:\n",
    "                label = 'POSITIVE'\n",
    "                score = positive_score\n",
    "            elif negative_score > 0.6:\n",
    "                label = 'NEGATIVE'\n",
    "                score = negative_score\n",
    "            else:\n",
    "                label = 'NEUTRAL'\n",
    "                score = neutral_score\n",
    "\n",
    "            negative_box = f\"\"\"\n",
    "            <div style='border: 2px solid red; padding: 10px; margin: 10px; border-radius: 10px; animation: pulse-red 2s infinite;'>\n",
    "                <h3 style='color: red;'>Negative Sentiment</h3>\n",
    "                <p>Confidence Score: {score:.2f}</p>\n",
    "            </div>\n",
    "            <style>\n",
    "            @keyframes pulse-red {{\n",
    "                0% {{ box-shadow: 0 0 5px red; }}\n",
    "                50% {{ box-shadow: 0 0 20px red; }}\n",
    "                100% {{ box-shadow: 0 0 5px red; }}\n",
    "            }}\n",
    "            </style>\n",
    "            \"\"\"\n",
    "\n",
    "            neutral_box = f\"\"\"\n",
    "            <div style='border: 2px solid blue; padding: 10px; margin: 10px; border-radius: 10px; animation: pulse-blue 2s infinite;'>\n",
    "                <h3 style='color: blue;'>Neutral Sentiment</h3>\n",
    "                <p>Confidence Score: {score:.2f}</p>\n",
    "            </div>\n",
    "            <style>\n",
    "            @keyframes pulse-blue {{\n",
    "                0% {{ box-shadow: 0 0 5px blue; }}\n",
    "                50% {{ box-shadow: 0 0 20px blue; }}\n",
    "                100% {{ box-shadow: 0 0 5px blue; }}\n",
    "            }}\n",
    "            </style>\n",
    "            \"\"\"\n",
    "\n",
    "            positive_box = f\"\"\"\n",
    "            <div style='border: 2px solid green; padding: 10px; margin: 10px; border-radius: 10px; animation: pulse-green 2s infinite;'>\n",
    "                <h3 style='color: green;'>Positive Sentiment</h3>\n",
    "                <p>Confidence Score: {score:.2f}</p>\n",
    "            </div>\n",
    "            <style>\n",
    "            @keyframes pulse-green {{\n",
    "                0% {{ box-shadow: 0 0 5px green; }}\n",
    "                50% {{ box-shadow: 0 0 20px green; }}\n",
    "                100% {{ box-shadow: 0 0 5px green; }}\n",
    "            }}\n",
    "            </style>\n",
    "            \"\"\"\n",
    "\n",
    "            if label == 'NEGATIVE':\n",
    "                display(HTML(negative_box))\n",
    "            elif label == 'NEUTRAL':\n",
    "                display(HTML(neutral_box))\n",
    "            else:\n",
    "                display(HTML(positive_box))\n",
    "\n",
    "            # Display all sentiment scores\n",
    "            all_scores = sentiment_pipeline(sentence, return_all_scores=True)[0]\n",
    "            scores_dict = {score['label']: score['score'] for score in all_scores}\n",
    "            negative_score = scores_dict.get('NEGATIVE', 0)\n",
    "            neutral_score = scores_dict.get('NEUTRAL', 0)\n",
    "            positive_score = scores_dict.get('POSITIVE', 0)\n",
    "\n",
    "            all_scores_box = f\"\"\"\n",
    "            <div style='border: 5px solid; padding: 10px; margin: 10px; border-radius: 10px; animation: rotate-colors 5s infinite linear;'>\n",
    "                <h3>Sentiment Analysis Scores</h3>\n",
    "                <p>Negative: {negative_score:.2f}</p>\n",
    "                <p>Neutral: {neutral_score:.2f}</p>\n",
    "                <p>Positive: {positive_score:.2f}</p>\n",
    "            </div>\n",
    "            <style>\n",
    "            @keyframes rotate-colors {{\n",
    "                0% {{ border-color: orange; }}\n",
    "                12% {{ border-color: darkblue; }}\n",
    "                33% {{ border-color: purple; }}\n",
    "                50% {{ border-color: silver; }}\n",
    "                66% {{ border-color: purple; }}\n",
    "                80% {{ border-color: darkblue; }}\n",
    "                100% {{ border-color: orange; }}\n",
    "            }}\n",
    "            </style>\n",
    "            \"\"\"\n",
    "            display(HTML(all_scores_box))\n",
    "\n",
    "    analyze_button.on_click(analyze_sentiment)\n"
   ]
  },
  {
   "cell_type": "code",
   "execution_count": 48,
   "metadata": {},
   "outputs": [
    {
     "data": {
      "application/vnd.jupyter.widget-view+json": {
       "model_id": "6e950f388d4d4f3eadbb3a6fc5766d6b",
       "version_major": 2,
       "version_minor": 0
      },
      "text/plain": [
       "Text(value='', description='Input:', placeholder='Type your sentence here')"
      ]
     },
     "metadata": {},
     "output_type": "display_data"
    },
    {
     "data": {
      "application/vnd.jupyter.widget-view+json": {
       "model_id": "9b487d6b072846b1afb49dfb7d74f364",
       "version_major": 2,
       "version_minor": 0
      },
      "text/plain": [
       "Button(description='Analyze Sentiment', icon='check', style=ButtonStyle(), tooltip='Click to analyze sentiment…"
      ]
     },
     "metadata": {},
     "output_type": "display_data"
    },
    {
     "data": {
      "application/vnd.jupyter.widget-view+json": {
       "model_id": "263f3fd48e5a48ac983bb51b8cd45870",
       "version_major": 2,
       "version_minor": 0
      },
      "text/plain": [
       "Output()"
      ]
     },
     "metadata": {},
     "output_type": "display_data"
    },
    {
     "data": {
      "application/vnd.jupyter.widget-view+json": {
       "model_id": "307ee34e127840fca82e6e3138792630",
       "version_major": 2,
       "version_minor": 0
      },
      "text/plain": [
       "config.json:   0%|          | 0.00/570 [00:00<?, ?B/s]"
      ]
     },
     "metadata": {},
     "output_type": "display_data"
    },
    {
     "data": {
      "application/vnd.jupyter.widget-view+json": {
       "model_id": "bb89a6e1d92343c19be29466128f55ab",
       "version_major": 2,
       "version_minor": 0
      },
      "text/plain": [
       "model.safetensors:   0%|          | 0.00/440M [00:00<?, ?B/s]"
      ]
     },
     "metadata": {},
     "output_type": "display_data"
    },
    {
     "name": "stderr",
     "output_type": "stream",
     "text": [
      "Some weights of BertForSequenceClassification were not initialized from the model checkpoint at bert-base-uncased and are newly initialized: ['classifier.bias', 'classifier.weight']\n",
      "You should probably TRAIN this model on a down-stream task to be able to use it for predictions and inference.\n"
     ]
    },
    {
     "data": {
      "application/vnd.jupyter.widget-view+json": {
       "model_id": "eca8ebe0d1984bdb941c8b73e7c15f84",
       "version_major": 2,
       "version_minor": 0
      },
      "text/plain": [
       "tokenizer_config.json:   0%|          | 0.00/48.0 [00:00<?, ?B/s]"
      ]
     },
     "metadata": {},
     "output_type": "display_data"
    },
    {
     "data": {
      "application/vnd.jupyter.widget-view+json": {
       "model_id": "db70338fa5d646d39a6f68d0ad730e89",
       "version_major": 2,
       "version_minor": 0
      },
      "text/plain": [
       "vocab.txt:   0%|          | 0.00/232k [00:00<?, ?B/s]"
      ]
     },
     "metadata": {},
     "output_type": "display_data"
    },
    {
     "data": {
      "application/vnd.jupyter.widget-view+json": {
       "model_id": "690fe91b4e68444884a2eb67be8cb72a",
       "version_major": 2,
       "version_minor": 0
      },
      "text/plain": [
       "tokenizer.json:   0%|          | 0.00/466k [00:00<?, ?B/s]"
      ]
     },
     "metadata": {},
     "output_type": "display_data"
    }
   ],
   "source": [
    "my_SST2_advancedSolution()"
   ]
  }
 ],
 "metadata": {
  "kernelspec": {
   "display_name": "Python 3",
   "language": "python",
   "name": "python3"
  },
  "language_info": {
   "codemirror_mode": {
    "name": "ipython",
    "version": 3
   },
   "file_extension": ".py",
   "mimetype": "text/x-python",
   "name": "python",
   "nbconvert_exporter": "python",
   "pygments_lexer": "ipython3",
   "version": "3.12.1"
  }
 },
 "nbformat": 4,
 "nbformat_minor": 2
}
