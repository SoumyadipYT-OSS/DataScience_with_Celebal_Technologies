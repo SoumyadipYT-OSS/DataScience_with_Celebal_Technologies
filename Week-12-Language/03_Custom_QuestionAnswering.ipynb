{
 "cells": [
  {
   "cell_type": "markdown",
   "metadata": {},
   "source": [
    "### What is Custom Question Answering?\n",
    "Custom question answering provides cloud-based Natural Language Processing (NLP) that allows you to create a natural conversational layer over your data. It is used to find appropriate answers from customer input or from a project."
   ]
  },
  {
   "cell_type": "markdown",
   "metadata": {},
   "source": [
    "### When to use custom question answering?\n",
    "Custom question answering is commonly used to build conversational client applications, which include social media applications, chat bots, and speech-enabled desktop applications. This offering includes features like enhanced relevance using a deep learning ranker, precise answers, and end-to-end region support."
   ]
  },
  {
   "cell_type": "markdown",
   "metadata": {},
   "source": [
    "##### *Use cases of custom question answering*\n",
    "• **When you have static information:** Use custom question answering when you have static information in your project. This project is custom to your needs, which you've built with documents such as PDFs and URLs.\n",
    "\n",
    "• **When you want to provide the same answer to a request, question, or command:** When different users submit the same question, the same answer is returned.\n",
    "\n",
    "• **When you want to filter static information based on meta-information -** add metadata tags to provide additional filtering options relevant to your client application's users and the information. Common metadata information includes chit-chat, content type or format, content purpose, and content freshness.\n",
    "\n",
    "• **When you want to manage a bot conversation that includes static information -** your project takes a user's conversational text or command and answers it. If the answer is part of a pre-determined conversation flow, represented in your project with multi-turn context, the bot can easily provide this flow."
   ]
  }
 ],
 "metadata": {
  "kernelspec": {
   "display_name": "Python 3",
   "language": "python",
   "name": "python3"
  },
  "language_info": {
   "name": "python",
   "version": "3.12.1"
  }
 },
 "nbformat": 4,
 "nbformat_minor": 2
}
